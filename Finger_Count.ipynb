{
 "cells": [
  {
   "cell_type": "markdown",
   "id": "85189683",
   "metadata": {},
   "source": [
    "# Finger Count using OpenCV and Contour Detection"
   ]
  },
  {
   "cell_type": "code",
   "execution_count": 18,
   "id": "ce2ba0eb",
   "metadata": {},
   "outputs": [],
   "source": [
    "import cv2\n",
    "import numpy as np\n",
    "from sklearn.metrics import pairwise"
   ]
  },
  {
   "cell_type": "code",
   "execution_count": 17,
   "id": "e788ab4c",
   "metadata": {},
   "outputs": [],
   "source": [
    "# Global variables\n",
    "background = None\n",
    "accumulated_weight = 0.5\n",
    "roi_top = 20\n",
    "roi_bottom = 300\n",
    "roi_right = 300\n",
    "roi_left = 600"
   ]
  },
  {
   "cell_type": "code",
   "execution_count": 16,
   "id": "b796f901",
   "metadata": {},
   "outputs": [],
   "source": [
    "def calc_accum_avg(frame, accumulated_weight):\n",
    "    global background\n",
    "    if background is None:\n",
    "        background = frame.copy().astype('float')\n",
    "        return\n",
    "    cv2.accumulateWeighted(frame, background, accumulated_weight)"
   ]
  },
  {
   "cell_type": "code",
   "execution_count": 15,
   "id": "f2e54c68",
   "metadata": {},
   "outputs": [],
   "source": [
    "def segment(frame, threshold=15):\n",
    "    global background\n",
    "\n",
    "    diff = cv2.absdiff(background.astype(\"uint8\"), frame)\n",
    "\n",
    "    _, thresholded = cv2.threshold(diff, threshold, 255, cv2.THRESH_BINARY)\n",
    "\n",
    "    kernel = np.ones((3, 3), np.uint8)\n",
    "    thresholded = cv2.morphologyEx(thresholded, cv2.MORPH_CLOSE, kernel)  # Fill small holes\n",
    "    thresholded = cv2.morphologyEx(thresholded, cv2.MORPH_OPEN, kernel)   # Remove small blobs\n",
    "    contours, _ = cv2.findContours(thresholded.copy(), cv2.RETR_EXTERNAL, cv2.CHAIN_APPROX_SIMPLE)\n",
    "\n",
    "    if len(contours) == 0:\n",
    "        return None\n",
    "    hand_segment = max(contours, key=cv2.contourArea)\n",
    "    if cv2.contourArea(hand_segment) < 1000:\n",
    "        return None\n",
    "    if cv2.countNonZero(thresholded) < 1500:\n",
    "        return None\n",
    "\n",
    "\n",
    "    return (thresholded, hand_segment)"
   ]
  },
  {
   "cell_type": "code",
   "execution_count": 21,
   "id": "83d42e3c",
   "metadata": {},
   "outputs": [],
   "source": [
    "def count_fingers(thresholded, hand_segment):\n",
    "    hull = cv2.convexHull(hand_segment, returnPoints=False)\n",
    "    defects = cv2.convexityDefects(hand_segment, hull)\n",
    "\n",
    "    if defects is None:\n",
    "        return 0\n",
    "\n",
    "    finger_count = 0\n",
    "\n",
    "    for i in range(defects.shape[0]):\n",
    "        s, e, f, d = defects[i, 0]\n",
    "        start = tuple(hand_segment[s][0])\n",
    "        end = tuple(hand_segment[e][0])\n",
    "        far = tuple(hand_segment[f][0])\n",
    "\n",
    "        # Calculate length of triangle sides\n",
    "        a = np.linalg.norm(np.array(end) - np.array(start))\n",
    "        b = np.linalg.norm(np.array(far) - np.array(start))\n",
    "        c = np.linalg.norm(np.array(end) - np.array(far))\n",
    "\n",
    "        # Apply cosine rule to find angle\n",
    "        angle = np.arccos((b**2 + c**2 - a**2)/(2*b*c))\n",
    "\n",
    "        # Ignore defects with angle > 90 degrees or small depth\n",
    "        if angle <= np.pi / 2 and d > 10000:\n",
    "            finger_count += 1\n",
    "\n",
    "    return min(finger_count + 1, 5)"
   ]
  },
  {
   "cell_type": "code",
   "execution_count": 22,
   "id": "027e6021",
   "metadata": {},
   "outputs": [],
   "source": [
    "# Start the camera\n",
    "cam = cv2.VideoCapture(0)\n",
    "num_frames = 0\n",
    "\n",
    "while True:\n",
    "    ret, frame = cam.read()\n",
    "    frame = cv2.flip(frame, 1)\n",
    "    frame_copy = frame.copy()\n",
    "    roi = frame[roi_top:roi_bottom, roi_right:roi_left]\n",
    "\n",
    "    gray = cv2.cvtColor(roi, cv2.COLOR_BGR2GRAY)\n",
    "    gray = cv2.GaussianBlur(gray, (5, 5), 0)\n",
    "\n",
    "    if num_frames < 60:\n",
    "        calc_accum_avg(gray, accumulated_weight)\n",
    "        if num_frames <= 59:\n",
    "            cv2.putText(frame_copy, \"WAIT! GETTING BACKGROUND AVG.\", (200, 400), cv2.FONT_HERSHEY_SIMPLEX, 1, (0, 0, 255), 2)\n",
    "            cv2.imshow(\"Finger Count\", frame_copy)\n",
    "    else:\n",
    "        hand = segment(gray)\n",
    "        if hand is not None:\n",
    "            thresholded, hand_segment = hand\n",
    "            cv2.drawContours(frame_copy, [hand_segment + (roi_right, roi_top)], -1, (255, 0, 0), 1)\n",
    "            fingers = count_fingers(thresholded, hand_segment)\n",
    "            cv2.putText(frame_copy, str(fingers), (70, 45), cv2.FONT_HERSHEY_SIMPLEX, 1, (0, 0, 255), 2)\n",
    "            cv2.imshow(\"Thresholded\", thresholded)\n",
    "\n",
    "    cv2.rectangle(frame_copy, (roi_left, roi_top), (roi_right, roi_bottom), (0, 0, 255), 5)\n",
    "    num_frames += 1\n",
    "    cv2.imshow(\"Finger Count\", frame_copy)\n",
    "\n",
    "    k = cv2.waitKey(1) & 0xFF\n",
    "    if k == 27:\n",
    "        break\n",
    "\n",
    "cam.release()\n",
    "cv2.destroyAllWindows()"
   ]
  },
  {
   "cell_type": "code",
   "execution_count": null,
   "id": "60547e53-70af-476a-9fd8-02bb7175ac9e",
   "metadata": {},
   "outputs": [],
   "source": []
  }
 ],
 "metadata": {
  "kernelspec": {
   "display_name": "Python 3 (ipykernel)",
   "language": "python",
   "name": "python3"
  },
  "language_info": {
   "codemirror_mode": {
    "name": "ipython",
    "version": 3
   },
   "file_extension": ".py",
   "mimetype": "text/x-python",
   "name": "python",
   "nbconvert_exporter": "python",
   "pygments_lexer": "ipython3",
   "version": "3.13.5"
  }
 },
 "nbformat": 4,
 "nbformat_minor": 5
}
